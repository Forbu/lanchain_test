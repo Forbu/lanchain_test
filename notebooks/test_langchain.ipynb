{
 "cells": [
  {
   "cell_type": "code",
   "execution_count": 5,
   "metadata": {},
   "outputs": [],
   "source": [
    "\"\"\"\n",
    "This notebook is used to test the langchain library. We are looking to test the index / retrieval capabilities of the library.\n",
    "langchain is a python library that allows you interact with LLM (large language model) models. \n",
    "\n",
    "We explore here the interaction with Juridicial corpus.\n",
    "\n",
    "\"\"\"\n",
    "import langchain\n",
    "\n",
    "from langchain.chains import RetrievalQA\n",
    "from langchain.llms import OpenAI\n",
    "\n",
    "from langchain.document_loaders import TextLoader\n",
    "\n",
    "import os\n",
    "\n",
    "# We load the OpenAI API key from the environment variable OPENAI_API_KEY\n",
    "# we first read the key from the key.txt file (not in the repo)\n",
    "with open(\"../key.txt\", \"r\") as f:\n",
    "    key = f.read()\n",
    "\n",
    "os.environ[\"OPENAI_API_KEY\"] = key\n",
    "\n"
   ]
  },
  {
   "cell_type": "code",
   "execution_count": null,
   "metadata": {},
   "outputs": [],
   "source": []
  },
  {
   "cell_type": "code",
   "execution_count": 6,
   "metadata": {},
   "outputs": [],
   "source": [
    "\n",
    "loader_civil = TextLoader('../data/Codecivil.txt', encoding='utf8')\n",
    "#loader_penal = TextLoader('../data/Codepenal.txt', encoding='utf8')\n",
    "#loader_travail = TextLoader('../data/Codedutravail.txt', encoding='utf8')"
   ]
  },
  {
   "cell_type": "code",
   "execution_count": 7,
   "metadata": {},
   "outputs": [
    {
     "data": {
      "text/plain": [
       "'0.0.141'"
      ]
     },
     "execution_count": 7,
     "metadata": {},
     "output_type": "execute_result"
    }
   ],
   "source": [
    "langchain.__version__"
   ]
  },
  {
   "cell_type": "code",
   "execution_count": 10,
   "metadata": {},
   "outputs": [
    {
     "name": "stderr",
     "output_type": "stream",
     "text": [
      "Using embedded DuckDB without persistence: data will be transient\n"
     ]
    }
   ],
   "source": [
    "from langchain.indexes import VectorstoreIndexCreator\n",
    "\n",
    "index = VectorstoreIndexCreator().from_loaders([loader_civil])"
   ]
  },
  {
   "cell_type": "code",
   "execution_count": 11,
   "metadata": {},
   "outputs": [
    {
     "data": {
      "text/plain": [
       "' Vous pouvez faire résilier le bail si le locataire ne paie pas le loyer depuis 3 mois. Vous pouvez également demander des sûretés capables de répondre du loyer, ou poursuivre le locataire en votre nom personnel.'"
      ]
     },
     "execution_count": 11,
     "metadata": {},
     "output_type": "execute_result"
    }
   ],
   "source": [
    "query = \"Mon locataire ne paie pas son loyer depuis 3 mois. Que puis-je faire ?\"\n",
    "index.query(query)"
   ]
  },
  {
   "cell_type": "code",
   "execution_count": 12,
   "metadata": {},
   "outputs": [
    {
     "data": {
      "text/plain": [
       "{'question': 'Mon locataire ne paie pas son loyer depuis 3 mois. Que puis-je faire ?',\n",
       " 'answer': ' Vous pouvez résilier le bail si le locataire ne paie pas son loyer depuis 3 mois.\\n',\n",
       " 'sources': 'Code civil : article 1730, 1725.'}"
      ]
     },
     "execution_count": 12,
     "metadata": {},
     "output_type": "execute_result"
    }
   ],
   "source": [
    "query = \"Mon locataire ne paie pas son loyer depuis 3 mois. Que puis-je faire ?\"\n",
    "index.query_with_sources(query)"
   ]
  },
  {
   "cell_type": "code",
   "execution_count": 13,
   "metadata": {},
   "outputs": [
    {
     "data": {
      "text/plain": [
       "{'question': 'Si mon locataire ne me rend pas mon logement dans un état correct, que puis-je faire ?',\n",
       " 'answer': ' Si le locataire ne rend pas le logement dans un état correct, le bailleur peut faire résilier le bail. Le bailleur est tenu de délivrer la chose en bon état de réparations de toute espèce.\\n',\n",
       " 'sources': 'service-public.fr, ../data/Codecivil.txt'}"
      ]
     },
     "execution_count": 13,
     "metadata": {},
     "output_type": "execute_result"
    }
   ],
   "source": [
    "query = \"Si mon locataire ne me rend pas mon logement dans un état correct, que puis-je faire ?\"\n",
    "index.query_with_sources(query)"
   ]
  },
  {
   "cell_type": "code",
   "execution_count": null,
   "metadata": {},
   "outputs": [],
   "source": []
  }
 ],
 "metadata": {
  "kernelspec": {
   "display_name": "Python 3",
   "language": "python",
   "name": "python3"
  },
  "language_info": {
   "codemirror_mode": {
    "name": "ipython",
    "version": 3
   },
   "file_extension": ".py",
   "mimetype": "text/x-python",
   "name": "python",
   "nbconvert_exporter": "python",
   "pygments_lexer": "ipython3",
   "version": "3.10.11"
  },
  "orig_nbformat": 4
 },
 "nbformat": 4,
 "nbformat_minor": 2
}
