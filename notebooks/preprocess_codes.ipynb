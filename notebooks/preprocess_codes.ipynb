{
 "cells": [
  {
   "cell_type": "code",
   "execution_count": 1,
   "metadata": {},
   "outputs": [],
   "source": [
    "\"\"\"\n",
    "This notebook is used to preprocess the different juridical codes of the penal law.\n",
    "The codes are downloaded from the website of the French government (https://www.legifrance.gouv.fr/).\n",
    "\n",
    "Currently we only have three codes:\n",
    "- Code pénal\n",
    "- Code civique\n",
    "- Code du travail\n",
    "\n",
    "The codes are downloaded in the folder \"data/codepenal\" and are named \"codepenal.txt\", \"codecivil.txt\" and \"codetravail.txt\".\n",
    "\n",
    "In this notebook we preprocess the codes to extract the articles and the paragraphs.\n",
    "\n",
    "We have two ideas for the preprocessing:\n",
    "- Extract the full text of the articles and the paragraphs\n",
    "OR\n",
    "- Extract each article separately \n",
    "\"\"\"\n",
    "\n",
    "# Imports\n",
    "import PyPDF2\n"
   ]
  },
  {
   "attachments": {},
   "cell_type": "markdown",
   "metadata": {},
   "source": [
    "### 1. Extract raw text from the dataset"
   ]
  },
  {
   "cell_type": "code",
   "execution_count": 5,
   "metadata": {},
   "outputs": [],
   "source": [
    "files_paths = [\"../data/Codecivil.pdf\", \"../data/Codepenal.pdf\", \"../data/Codedutravail.pdf\"]"
   ]
  },
  {
   "cell_type": "code",
   "execution_count": 14,
   "metadata": {},
   "outputs": [],
   "source": [
    "\n",
    "def extract_text_from_pdf(file_path, filepath_extracted_text):\n",
    "    \"\"\"\n",
    "    Extract the text from a PDF file and save it to a text file.\n",
    "    \"\"\"\n",
    "    # Open the PDF file\n",
    "    pdf_file = open(file_path, 'rb')\n",
    "\n",
    "    # Create a PDF reader object\n",
    "    pdf_reader = PyPDF2.PdfReader(pdf_file)\n",
    "\n",
    "    # Get the number of pages in the PDF document\n",
    "    num_pages = len(pdf_reader.pages)\n",
    "\n",
    "    # Iterate through all the pages and extract the text\n",
    "    text = ''\n",
    "    for page in range(num_pages):\n",
    "        page_obj = pdf_reader.pages[page]\n",
    "        text += page_obj.extract_text()\n",
    "\n",
    "    # Save the text to a text file\n",
    "    with open(filepath_extracted_text, 'w') as output:\n",
    "        output.write(text)\n",
    "\n",
    "\n"
   ]
  },
  {
   "cell_type": "code",
   "execution_count": 15,
   "metadata": {},
   "outputs": [],
   "source": [
    "# Extract the text from the PDF files\n",
    "for file_path in files_paths:\n",
    "    extract_text_from_pdf(file_path, file_path[:-3] + \"txt\")"
   ]
  },
  {
   "cell_type": "code",
   "execution_count": null,
   "metadata": {},
   "outputs": [],
   "source": []
  },
  {
   "cell_type": "code",
   "execution_count": null,
   "metadata": {},
   "outputs": [],
   "source": []
  },
  {
   "cell_type": "code",
   "execution_count": null,
   "metadata": {},
   "outputs": [],
   "source": []
  }
 ],
 "metadata": {
  "kernelspec": {
   "display_name": "Python 3",
   "language": "python",
   "name": "python3"
  },
  "language_info": {
   "codemirror_mode": {
    "name": "ipython",
    "version": 3
   },
   "file_extension": ".py",
   "mimetype": "text/x-python",
   "name": "python",
   "nbconvert_exporter": "python",
   "pygments_lexer": "ipython3",
   "version": "3.7.16"
  },
  "orig_nbformat": 4
 },
 "nbformat": 4,
 "nbformat_minor": 2
}
