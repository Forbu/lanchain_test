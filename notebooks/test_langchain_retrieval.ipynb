{
 "cells": [
  {
   "cell_type": "code",
   "execution_count": 3,
   "metadata": {},
   "outputs": [],
   "source": [
    "\"\"\"\n",
    "This notebook is used to test the langchain library. We are looking to test the index / retrieval capabilities of the library.\n",
    "langchain is a python library that allows you interact with LLM (large language model) models. \n",
    "\n",
    "We explore here the interaction with Juridicial corpus.\n",
    "\n",
    "\"\"\"\n",
    "import langchain\n",
    "\n",
    "from langchain.embeddings.openai import OpenAIEmbeddings\n",
    "from langchain.embeddings.cohere import CohereEmbeddings\n",
    "from langchain.text_splitter import CharacterTextSplitter\n",
    "from langchain.vectorstores.elastic_vector_search import ElasticVectorSearch\n",
    "from langchain.vectorstores import Chroma\n",
    "from langchain.chains import RetrievalQAWithSourcesChain\n",
    "from langchain import OpenAI\n",
    "\n",
    "import os\n",
    "\n",
    "# We load the OpenAI API key from the environment variable OPENAI_API_KEY\n",
    "# we first read the key from the key.txt file (not in the repo)\n",
    "with open(\"../key.txt\", \"r\") as f:\n",
    "    key = f.read()\n",
    "\n",
    "os.environ[\"OPENAI_API_KEY\"] = key\n",
    "\n"
   ]
  },
  {
   "cell_type": "code",
   "execution_count": null,
   "metadata": {},
   "outputs": [],
   "source": []
  },
  {
   "cell_type": "code",
   "execution_count": 40,
   "metadata": {},
   "outputs": [],
   "source": [
    "\n",
    "with open(\"../data/Codecivil.txt\") as f:\n",
    "    codecivil = f.read()\n",
    "\n",
    "text_splitter = CharacterTextSplitter(chunk_size=1500, chunk_overlap=500, separator=\" \")\n",
    "texts = text_splitter.split_text(codecivil)\n",
    "\n",
    "embeddings = OpenAIEmbeddings()\n"
   ]
  },
  {
   "cell_type": "code",
   "execution_count": 47,
   "metadata": {},
   "outputs": [
    {
     "data": {
      "text/plain": [
       "2045"
      ]
     },
     "execution_count": 47,
     "metadata": {},
     "output_type": "execute_result"
    }
   ],
   "source": [
    "len(texts)"
   ]
  },
  {
   "cell_type": "code",
   "execution_count": 42,
   "metadata": {},
   "outputs": [
    {
     "name": "stderr",
     "output_type": "stream",
     "text": [
      "Using embedded DuckDB without persistence: data will be transient\n"
     ]
    }
   ],
   "source": [
    "docsearch = Chroma.from_texts(texts, embeddings, metadatas=[{\"source\": f\"{i}-pl\"} for i in range(len(texts))])"
   ]
  },
  {
   "cell_type": "code",
   "execution_count": 43,
   "metadata": {},
   "outputs": [],
   "source": [
    "chain = RetrievalQAWithSourcesChain.from_chain_type(OpenAI(temperature=0), chain_type=\"stuff\", retriever=docsearch.as_retriever())"
   ]
  },
  {
   "cell_type": "code",
   "execution_count": 52,
   "metadata": {},
   "outputs": [
    {
     "data": {
      "text/plain": [
       "{'question': \"Qu'est qun'un bailleur ?\",\n",
       " 'answer': \" Un bailleur est une personne qui loue une chose à un preneur. Le bailleur est tenu de délivrer la chose en bon état de réparations de toute espèce et doit entretenir cette chose en état de servir à l'usage pour lequel elle a été louée.\\n\",\n",
       " 'sources': '1601-pl, 1612-pl, 1617-pl, 1620-pl.'}"
      ]
     },
     "execution_count": 52,
     "metadata": {},
     "output_type": "execute_result"
    }
   ],
   "source": [
    "chain({\"question\": \"Qu'est qun'un bailleur ?\"}, return_only_outputs=False)\n"
   ]
  },
  {
   "cell_type": "code",
   "execution_count": 56,
   "metadata": {},
   "outputs": [
    {
     "data": {
      "text/plain": [
       "'à la charge du bailleur : Travaux en cas de vétusté ou force majeure\\nCirculaires et Instructions\\n> CIRCULAIRE N° 90000/GEND/DSF/SDIL relative à l\\'établissement des états des lieux des logements d\\'habitation détenus par la gendarmerie.\\n1756     \\n Legif.   \\n Plan   \\n Jp.C.Cass.   \\n Jp.Appel   \\n Jp.Admin.   \\n Juricaf\\nLe curement des puits et celui des fosses d\\'aisances sont à la charge du bailleur s\\'il n\\'y a clause contraire.\\nservice-public.fr\\n> Entretien courant et \"réparations locatives\" à la charge du locataire : Fosse septique\\n1757     \\n Legif.   \\n Plan   \\n Jp.C.Cass.   \\n Jp.Appel   \\n Jp.Admin.   \\n Juricaf\\nLe bail des meubles fournis pour garnir une maison entière, un corps de logis entier, une boutique, ou tous\\nautres appartements, est censé fait pour la durée ordinaire des baux de maison, corps de logis, boutiques ou\\nautres appartements, selon l\\'usage des lieux.\\n1758     \\n Legif.   \\n Plan   \\n Jp.C.Cass.   \\n Jp.Appel   \\n Jp.Admin.   \\n Juricaf\\nLe bail d\\'un appartement meublé est censé fait à l\\'année, quand il a été fait à tant par an ;\\nAu mois, quand il a été fait à tant par mois ;\\nAu jour, quand il a été fait à tant par jour.\\nSi rien ne constate que le bail soit fait à tant par an, par mois ou par jour, la location est censée faite suivant\\nl\\'usage des lieux.\\n1759     \\n Legif.   \\n Plan   \\n Jp.C.Cass.   \\n Jp.Appel   \\n Jp.Admin.   \\n Juricaf\\nSi le locataire d\\'une maison ou d\\'un appartement continue sa jouissance après l\\'expiration du bail par écrit,\\nsans opposition de la part'"
      ]
     },
     "execution_count": 56,
     "metadata": {},
     "output_type": "execute_result"
    }
   ],
   "source": [
    "texts[1620]"
   ]
  },
  {
   "cell_type": "code",
   "execution_count": null,
   "metadata": {},
   "outputs": [],
   "source": []
  },
  {
   "cell_type": "code",
   "execution_count": null,
   "metadata": {},
   "outputs": [],
   "source": []
  }
 ],
 "metadata": {
  "kernelspec": {
   "display_name": "Python 3",
   "language": "python",
   "name": "python3"
  },
  "language_info": {
   "codemirror_mode": {
    "name": "ipython",
    "version": 3
   },
   "file_extension": ".py",
   "mimetype": "text/x-python",
   "name": "python",
   "nbconvert_exporter": "python",
   "pygments_lexer": "ipython3",
   "version": "3.10.11"
  },
  "orig_nbformat": 4
 },
 "nbformat": 4,
 "nbformat_minor": 2
}
